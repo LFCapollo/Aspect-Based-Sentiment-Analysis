{
 "cells": [
  {
   "cell_type": "code",
   "execution_count": 1,
   "metadata": {},
   "outputs": [],
   "source": [
    "import xml.etree.ElementTree as ET\n",
    "import pandas as pd\n",
    "from sklearn.model_selection import train_test_split\n",
    "from sklearn.preprocessing import MultiLabelBinarizer\n",
    "from sklearn.feature_extraction.text import CountVectorizer\n",
    "from sklearn.feature_extraction.text import TfidfTransformer\n",
    "from sklearn.pipeline import Pipeline\n",
    "from sklearn.naive_bayes import MultinomialNB\n",
    "from skmultilearn.problem_transform import LabelPowerset\n",
    "import numpy as np\n",
    "import pickle"
   ]
  },
  {
   "cell_type": "code",
   "execution_count": null,
   "metadata": {},
   "outputs": [],
   "source": [
    "tree = ET.parse('../data/Restaurants_Train.xml')\n",
    "root = tree.getroot()"
   ]
  },
  {
   "cell_type": "code",
   "execution_count": 2,
   "metadata": {},
   "outputs": [
    {
     "name": "stdout",
     "output_type": "stream",
     "text": [
      "there are 3044 reviews in this training set\n"
     ]
    }
   ],
   "source": [
    "\n",
    "\n",
    "labeled_reviews = []\n",
    "for sentence in root.findall(\"sentence\"):\n",
    "    entry = {}\n",
    "    aterms = []\n",
    "    aspects = []\n",
    "    if sentence.find(\"aspectTerms\"):\n",
    "        for aterm in sentence.find(\"aspectTerms\").findall(\"aspectTerm\"):\n",
    "            aterms.append(aterm.get(\"term\"))\n",
    "    if sentence.find(\"aspectCategories\"):\n",
    "        for aspect in sentence.find(\"aspectCategories\").findall(\"aspectCategory\"):\n",
    "            aspects.append(aspect.get(\"category\"))\n",
    "    entry[\"text\"], entry[\"terms\"], entry[\"aspects\"]= sentence[0].text, aterms, aspects\n",
    "    labeled_reviews.append(entry)\n",
    "labeled_df = pd.DataFrame(labeled_reviews)\n",
    "print(\"there are\",len(labeled_reviews),\"reviews in this training set\")"
   ]
  },
  {
   "cell_type": "code",
   "execution_count": 3,
   "metadata": {},
   "outputs": [
    {
     "data": {
      "text/html": [
       "<div>\n",
       "<style scoped>\n",
       "    .dataframe tbody tr th:only-of-type {\n",
       "        vertical-align: middle;\n",
       "    }\n",
       "\n",
       "    .dataframe tbody tr th {\n",
       "        vertical-align: top;\n",
       "    }\n",
       "\n",
       "    .dataframe thead th {\n",
       "        text-align: right;\n",
       "    }\n",
       "</style>\n",
       "<table border=\"1\" class=\"dataframe\">\n",
       "  <thead>\n",
       "    <tr style=\"text-align: right;\">\n",
       "      <th></th>\n",
       "      <th>text</th>\n",
       "      <th>terms</th>\n",
       "      <th>aspects</th>\n",
       "    </tr>\n",
       "  </thead>\n",
       "  <tbody>\n",
       "    <tr>\n",
       "      <td>0</td>\n",
       "      <td>But the staff was so horrible to us.</td>\n",
       "      <td>[staff]</td>\n",
       "      <td>[service]</td>\n",
       "    </tr>\n",
       "    <tr>\n",
       "      <td>1</td>\n",
       "      <td>To be completely fair, the only redeeming fact...</td>\n",
       "      <td>[food]</td>\n",
       "      <td>[food, anecdotes/miscellaneous]</td>\n",
       "    </tr>\n",
       "    <tr>\n",
       "      <td>2</td>\n",
       "      <td>The food is uniformly exceptional, with a very...</td>\n",
       "      <td>[food, kitchen, menu]</td>\n",
       "      <td>[food]</td>\n",
       "    </tr>\n",
       "    <tr>\n",
       "      <td>3</td>\n",
       "      <td>Where Gabriela personaly greets you and recomm...</td>\n",
       "      <td>[]</td>\n",
       "      <td>[service]</td>\n",
       "    </tr>\n",
       "    <tr>\n",
       "      <td>4</td>\n",
       "      <td>For those that go once and don't enjoy it, all...</td>\n",
       "      <td>[]</td>\n",
       "      <td>[anecdotes/miscellaneous]</td>\n",
       "    </tr>\n",
       "  </tbody>\n",
       "</table>\n",
       "</div>"
      ],
      "text/plain": [
       "                                                text                  terms  \\\n",
       "0               But the staff was so horrible to us.                [staff]   \n",
       "1  To be completely fair, the only redeeming fact...                 [food]   \n",
       "2  The food is uniformly exceptional, with a very...  [food, kitchen, menu]   \n",
       "3  Where Gabriela personaly greets you and recomm...                     []   \n",
       "4  For those that go once and don't enjoy it, all...                     []   \n",
       "\n",
       "                           aspects  \n",
       "0                        [service]  \n",
       "1  [food, anecdotes/miscellaneous]  \n",
       "2                           [food]  \n",
       "3                        [service]  \n",
       "4        [anecdotes/miscellaneous]  "
      ]
     },
     "execution_count": 3,
     "metadata": {},
     "output_type": "execute_result"
    }
   ],
   "source": [
    "# Save annotated reviews\n",
    "labeled_df.to_pickle(\"../pickled_files/annotated_reviews_df.pkl\")\n",
    "labeled_df.head()"
   ]
  },
  {
   "cell_type": "markdown",
   "metadata": {},
   "source": [
    "# Fixing coreferencing"
   ]
  },
  {
   "cell_type": "code",
   "execution_count": 4,
   "metadata": {},
   "outputs": [],
   "source": [
    "import neuralcoref\n",
    "import spacy\n",
    "nlp = spacy.load('en')\n",
    "\n",
    "neuralcoref.add_to_pipe(nlp)\n",
    "\n",
    "# Define function for replacing pronouns using neuralcoref\n",
    "def replace_pronouns(text):\n",
    "    doc = nlp(text)\n",
    "    return doc._.coref_resolved"
   ]
  },
  {
   "cell_type": "code",
   "execution_count": 5,
   "metadata": {},
   "outputs": [
    {
     "data": {
      "text/html": [
       "<div>\n",
       "<style scoped>\n",
       "    .dataframe tbody tr th:only-of-type {\n",
       "        vertical-align: middle;\n",
       "    }\n",
       "\n",
       "    .dataframe tbody tr th {\n",
       "        vertical-align: top;\n",
       "    }\n",
       "\n",
       "    .dataframe thead th {\n",
       "        text-align: right;\n",
       "    }\n",
       "</style>\n",
       "<table border=\"1\" class=\"dataframe\">\n",
       "  <thead>\n",
       "    <tr style=\"text-align: right;\">\n",
       "      <th></th>\n",
       "      <th>text</th>\n",
       "      <th>terms</th>\n",
       "      <th>aspects</th>\n",
       "    </tr>\n",
       "  </thead>\n",
       "  <tbody>\n",
       "    <tr>\n",
       "      <td>0</td>\n",
       "      <td>But the staff was so horrible to us.</td>\n",
       "      <td>[staff]</td>\n",
       "      <td>[service]</td>\n",
       "    </tr>\n",
       "    <tr>\n",
       "      <td>1</td>\n",
       "      <td>To be completely fair, the only redeeming fact...</td>\n",
       "      <td>[food]</td>\n",
       "      <td>[food, anecdotes/miscellaneous]</td>\n",
       "    </tr>\n",
       "    <tr>\n",
       "      <td>2</td>\n",
       "      <td>The food is uniformly exceptional, with a very...</td>\n",
       "      <td>[food, kitchen, menu]</td>\n",
       "      <td>[food]</td>\n",
       "    </tr>\n",
       "  </tbody>\n",
       "</table>\n",
       "</div>"
      ],
      "text/plain": [
       "                                                text                  terms  \\\n",
       "0               But the staff was so horrible to us.                [staff]   \n",
       "1  To be completely fair, the only redeeming fact...                 [food]   \n",
       "2  The food is uniformly exceptional, with a very...  [food, kitchen, menu]   \n",
       "\n",
       "                           aspects  \n",
       "0                        [service]  \n",
       "1  [food, anecdotes/miscellaneous]  \n",
       "2                           [food]  "
      ]
     },
     "execution_count": 5,
     "metadata": {},
     "output_type": "execute_result"
    }
   ],
   "source": [
    "#read annotated reviews dataframe\n",
    "annotated_reviews_df = pd.read_pickle(\"../pickled_files/annotated_reviews_df.pkl\")\n",
    "annotated_reviews_df.head(3)"
   ]
  },
  {
   "cell_type": "code",
   "execution_count": 6,
   "metadata": {},
   "outputs": [],
   "source": [
    "# Create a new column with fixed correferencing\n",
    "annotated_reviews_df[\"fixed_review\"] = annotated_reviews_df.text.map(lambda x: replace_pronouns(x))"
   ]
  },
  {
   "cell_type": "code",
   "execution_count": 7,
   "metadata": {},
   "outputs": [
    {
     "data": {
      "text/html": [
       "<div>\n",
       "<style scoped>\n",
       "    .dataframe tbody tr th:only-of-type {\n",
       "        vertical-align: middle;\n",
       "    }\n",
       "\n",
       "    .dataframe tbody tr th {\n",
       "        vertical-align: top;\n",
       "    }\n",
       "\n",
       "    .dataframe thead th {\n",
       "        text-align: right;\n",
       "    }\n",
       "</style>\n",
       "<table border=\"1\" class=\"dataframe\">\n",
       "  <thead>\n",
       "    <tr style=\"text-align: right;\">\n",
       "      <th></th>\n",
       "      <th>text</th>\n",
       "      <th>terms</th>\n",
       "      <th>aspects</th>\n",
       "      <th>fixed_review</th>\n",
       "    </tr>\n",
       "  </thead>\n",
       "  <tbody>\n",
       "    <tr>\n",
       "      <td>0</td>\n",
       "      <td>But the staff was so horrible to us.</td>\n",
       "      <td>[staff]</td>\n",
       "      <td>[service]</td>\n",
       "      <td>But the staff was so horrible to us.</td>\n",
       "    </tr>\n",
       "    <tr>\n",
       "      <td>1</td>\n",
       "      <td>To be completely fair, the only redeeming fact...</td>\n",
       "      <td>[food]</td>\n",
       "      <td>[food, anecdotes/miscellaneous]</td>\n",
       "      <td>To be completely fair, the only redeeming fact...</td>\n",
       "    </tr>\n",
       "    <tr>\n",
       "      <td>2</td>\n",
       "      <td>The food is uniformly exceptional, with a very...</td>\n",
       "      <td>[food, kitchen, menu]</td>\n",
       "      <td>[food]</td>\n",
       "      <td>The food is uniformly exceptional, with a very...</td>\n",
       "    </tr>\n",
       "  </tbody>\n",
       "</table>\n",
       "</div>"
      ],
      "text/plain": [
       "                                                text                  terms  \\\n",
       "0               But the staff was so horrible to us.                [staff]   \n",
       "1  To be completely fair, the only redeeming fact...                 [food]   \n",
       "2  The food is uniformly exceptional, with a very...  [food, kitchen, menu]   \n",
       "\n",
       "                           aspects  \\\n",
       "0                        [service]   \n",
       "1  [food, anecdotes/miscellaneous]   \n",
       "2                           [food]   \n",
       "\n",
       "                                        fixed_review  \n",
       "0               But the staff was so horrible to us.  \n",
       "1  To be completely fair, the only redeeming fact...  \n",
       "2  The food is uniformly exceptional, with a very...  "
      ]
     },
     "execution_count": 7,
     "metadata": {},
     "output_type": "execute_result"
    }
   ],
   "source": [
    "annotated_reviews_df.to_pickle(\"../pickled_files/annotated_reviews_df2.pkl\")\n",
    "\n",
    "# Read pickled file with replaced pronouns\n",
    "annotated_reviews_df = pd.read_pickle(\"../pickled_files/annotated_reviews_df2.pkl\")\n",
    "annotated_reviews_df.head(3)"
   ]
  },
  {
   "cell_type": "code",
   "execution_count": 8,
   "metadata": {},
   "outputs": [],
   "source": [
    "# multilabelBinarizer transforms aspects into arrays\n",
    "mlb = MultiLabelBinarizer()\n",
    "y = mlb.fit_transform(annotated_reviews_df.aspects)\n",
    "X = annotated_reviews_df.fixed_review\n",
    "\n",
    "# Split data into train and test set 75% 25%\n",
    "X_train, X_test, y_train, y_test = train_test_split(\n",
    "    X, y, test_size=0.25, random_state=0)"
   ]
  },
  {
   "cell_type": "code",
   "execution_count": 9,
   "metadata": {},
   "outputs": [],
   "source": [
    "filename = '../pickled_files/mlb.pkl'\n",
    "pickle.dump(mlb, open(filename, 'wb'))\n",
    "X_train.to_pickle(\"../pickled_files/X_train.pkl\")\n",
    "X_test.to_pickle(\"../pickled_files/X_test.pkl\")\n",
    "filename = '../pickled_files/y_train.pkl'\n",
    "pickle.dump(y_train, open(filename, 'wb'))\n",
    "filename = '../pickled_files/y_test.pkl'\n",
    "pickle.dump(y_test, open(filename, 'wb'))"
   ]
  },
  {
   "cell_type": "markdown",
   "metadata": {},
   "source": [
    "# Train Best model (Multinomial Naive Bayes) using full dataset "
   ]
  },
  {
   "cell_type": "code",
   "execution_count": 10,
   "metadata": {},
   "outputs": [],
   "source": [
    "#Train Best model (Multinomial Naive Bayes) using full dataset \n",
    "text_clf = Pipeline([('vect', CountVectorizer(stop_words = \"english\",ngram_range=(1, 1))),\n",
    "                     ('tfidf', TfidfTransformer(use_idf=False)),\n",
    "                     ('clf', LabelPowerset(MultinomialNB(alpha=1e-2))),])\n",
    "text_clf = text_clf.fit(X, y)"
   ]
  },
  {
   "cell_type": "markdown",
   "metadata": {},
   "source": [
    "# Saving model"
   ]
  },
  {
   "cell_type": "code",
   "execution_count": 11,
   "metadata": {},
   "outputs": [],
   "source": [
    "filename = '../pickled_files/NB_model.pkl'\n",
    "pickle.dump(text_clf, open(filename, 'wb'))"
   ]
  }
 ],
 "metadata": {
  "kernelspec": {
   "display_name": "Python 3",
   "language": "python",
   "name": "python3"
  },
  "language_info": {
   "codemirror_mode": {
    "name": "ipython",
    "version": 3
   },
   "file_extension": ".py",
   "mimetype": "text/x-python",
   "name": "python",
   "nbconvert_exporter": "python",
   "pygments_lexer": "ipython3",
   "version": "3.7.4"
  }
 },
 "nbformat": 4,
 "nbformat_minor": 2
}
