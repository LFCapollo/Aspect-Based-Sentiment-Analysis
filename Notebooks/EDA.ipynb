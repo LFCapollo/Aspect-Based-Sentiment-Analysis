{
 "cells": [
  {
   "cell_type": "markdown",
   "metadata": {},
   "source": [
    "# Exploratory Data Analysis"
   ]
  },
  {
   "cell_type": "code",
   "execution_count": 12,
   "metadata": {},
   "outputs": [],
   "source": [
    "import pandas as pd\n",
    "import plotly.express as px"
   ]
  },
  {
   "cell_type": "code",
   "execution_count": 13,
   "metadata": {},
   "outputs": [],
   "source": [
    "# Load annotated reviews DataFrame\n",
    "\n",
    "data = pd.read_pickle(\"../pickled_files/annotated_reviews_df2.pkl\")"
   ]
  },
  {
   "cell_type": "code",
   "execution_count": 14,
   "metadata": {},
   "outputs": [
    {
     "data": {
      "text/html": [
       "<div>\n",
       "<style scoped>\n",
       "    .dataframe tbody tr th:only-of-type {\n",
       "        vertical-align: middle;\n",
       "    }\n",
       "\n",
       "    .dataframe tbody tr th {\n",
       "        vertical-align: top;\n",
       "    }\n",
       "\n",
       "    .dataframe thead th {\n",
       "        text-align: right;\n",
       "    }\n",
       "</style>\n",
       "<table border=\"1\" class=\"dataframe\">\n",
       "  <thead>\n",
       "    <tr style=\"text-align: right;\">\n",
       "      <th></th>\n",
       "      <th>text</th>\n",
       "      <th>terms</th>\n",
       "      <th>aspects</th>\n",
       "      <th>fixed_review</th>\n",
       "    </tr>\n",
       "  </thead>\n",
       "  <tbody>\n",
       "    <tr>\n",
       "      <td>0</td>\n",
       "      <td>But the staff was so horrible to us.</td>\n",
       "      <td>[staff]</td>\n",
       "      <td>[service]</td>\n",
       "      <td>But the staff was so horrible to us.</td>\n",
       "    </tr>\n",
       "    <tr>\n",
       "      <td>1</td>\n",
       "      <td>To be completely fair, the only redeeming fact...</td>\n",
       "      <td>[food]</td>\n",
       "      <td>[food, anecdotes/miscellaneous]</td>\n",
       "      <td>To be completely fair, the only redeeming fact...</td>\n",
       "    </tr>\n",
       "    <tr>\n",
       "      <td>2</td>\n",
       "      <td>The food is uniformly exceptional, with a very...</td>\n",
       "      <td>[food, kitchen, menu]</td>\n",
       "      <td>[food]</td>\n",
       "      <td>The food is uniformly exceptional, with a very...</td>\n",
       "    </tr>\n",
       "    <tr>\n",
       "      <td>3</td>\n",
       "      <td>Where Gabriela personaly greets you and recomm...</td>\n",
       "      <td>[]</td>\n",
       "      <td>[service]</td>\n",
       "      <td>Where Gabriela personaly greets you and recomm...</td>\n",
       "    </tr>\n",
       "    <tr>\n",
       "      <td>4</td>\n",
       "      <td>For those that go once and don't enjoy it, all...</td>\n",
       "      <td>[]</td>\n",
       "      <td>[anecdotes/miscellaneous]</td>\n",
       "      <td>For those that go once and don't enjoy it, all...</td>\n",
       "    </tr>\n",
       "  </tbody>\n",
       "</table>\n",
       "</div>"
      ],
      "text/plain": [
       "                                                text                  terms  \\\n",
       "0               But the staff was so horrible to us.                [staff]   \n",
       "1  To be completely fair, the only redeeming fact...                 [food]   \n",
       "2  The food is uniformly exceptional, with a very...  [food, kitchen, menu]   \n",
       "3  Where Gabriela personaly greets you and recomm...                     []   \n",
       "4  For those that go once and don't enjoy it, all...                     []   \n",
       "\n",
       "                           aspects  \\\n",
       "0                        [service]   \n",
       "1  [food, anecdotes/miscellaneous]   \n",
       "2                           [food]   \n",
       "3                        [service]   \n",
       "4        [anecdotes/miscellaneous]   \n",
       "\n",
       "                                        fixed_review  \n",
       "0               But the staff was so horrible to us.  \n",
       "1  To be completely fair, the only redeeming fact...  \n",
       "2  The food is uniformly exceptional, with a very...  \n",
       "3  Where Gabriela personaly greets you and recomm...  \n",
       "4  For those that go once and don't enjoy it, all...  "
      ]
     },
     "execution_count": 14,
     "metadata": {},
     "output_type": "execute_result"
    }
   ],
   "source": [
    "data.head()"
   ]
  },
  {
   "cell_type": "markdown",
   "metadata": {},
   "source": [
    "# Aspects value count in reviews"
   ]
  },
  {
   "cell_type": "code",
   "execution_count": 15,
   "metadata": {
    "scrolled": true
   },
   "outputs": [
    {
     "data": {
      "text/plain": [
       "[anecdotes/miscellaneous]                             992\n",
       "[food]                                                798\n",
       "[service]                                             336\n",
       "[ambience]                                            234\n",
       "[food, price]                                         109\n",
       "[price]                                               108\n",
       "[food, service]                                       106\n",
       "[food, ambience]                                       48\n",
       "[service, ambience]                                    40\n",
       "[food, service, ambience]                              37\n",
       "[food, anecdotes/miscellaneous]                        28\n",
       "[anecdotes/miscellaneous, ambience]                    23\n",
       "[anecdotes/miscellaneous, food]                        22\n",
       "[anecdotes/miscellaneous, price]                       18\n",
       "[price, food]                                          17\n",
       "[anecdotes/miscellaneous, service]                     13\n",
       "[service, food]                                        13\n",
       "[service, anecdotes/miscellaneous]                     11\n",
       "[ambience, price]                                      11\n",
       "[food, service, price]                                 11\n",
       "[food, ambience, price]                                 9\n",
       "[ambience, food]                                        7\n",
       "[service, price]                                        6\n",
       "[ambience, service]                                     5\n",
       "[price, anecdotes/miscellaneous]                        4\n",
       "[food, service, ambience, price]                        3\n",
       "[food, price, service]                                  2\n",
       "[anecdotes/miscellaneous, food, price]                  2\n",
       "[food, anecdotes/miscellaneous, price]                  2\n",
       "[anecdotes/miscellaneous, price, food]                  2\n",
       "[price, ambience]                                       2\n",
       "[anecdotes/miscellaneous, anecdotes/miscellaneous]      2\n",
       "[food, price, ambience]                                 2\n",
       "[ambience, anecdotes/miscellaneous]                     2\n",
       "[anecdotes/miscellaneous, service, food]                2\n",
       "[service, price, food]                                  2\n",
       "[ambience, price, food]                                 2\n",
       "[price, service, food]                                  1\n",
       "[food, ambience, service]                               1\n",
       "[anecdotes/miscellaneous, service, price]               1\n",
       "[food, service, anecdotes/miscellaneous]                1\n",
       "[service, ambience, price]                              1\n",
       "[anecdotes/miscellaneous, ambience, food]               1\n",
       "[anecdotes/miscellaneous, food, service]                1\n",
       "[anecdotes/miscellaneous, service, price, food]         1\n",
       "[food, anecdotes/miscellaneous, ambience]               1\n",
       "[anecdotes/miscellaneous, ambience, service]            1\n",
       "[service, ambience, price, food]                        1\n",
       "[anecdotes/miscellaneous, ambience, price, food]        1\n",
       "[price, service]                                        1\n",
       "Name: aspects, dtype: int64"
      ]
     },
     "execution_count": 15,
     "metadata": {},
     "output_type": "execute_result"
    }
   ],
   "source": [
    "data[\"aspects\"].value_counts()"
   ]
  },
  {
   "cell_type": "markdown",
   "metadata": {},
   "source": [
    "# Fixing value count for aspects\n",
    "There are reviews which contains content about multiple aspects. The code below adds those cases to separate aspects"
   ]
  },
  {
   "cell_type": "code",
   "execution_count": 16,
   "metadata": {},
   "outputs": [],
   "source": [
    "anecdote=0\n",
    "food = 0\n",
    "service = 0\n",
    "ambience = 0\n",
    "price = 0\n",
    "\n",
    "for i in data[\"aspects\"]:\n",
    "    for j in i:\n",
    "        if j ==\"anecdotes/miscellaneous\":\n",
    "            anecdote+=1\n",
    "        elif j==\"food\":\n",
    "            food+=1\n",
    "        elif j==\"service\":\n",
    "            service+=1\n",
    "        elif j== \"price\":\n",
    "            price+=1\n",
    "        else:\n",
    "            ambience +=1"
   ]
  },
  {
   "cell_type": "code",
   "execution_count": 17,
   "metadata": {},
   "outputs": [
    {
     "data": {
      "text/plain": [
       "(1133, 1233, 597, 432, 319)"
      ]
     },
     "execution_count": 17,
     "metadata": {},
     "output_type": "execute_result"
    }
   ],
   "source": [
    "anecdote, food, service, ambience, price"
   ]
  },
  {
   "cell_type": "markdown",
   "metadata": {},
   "source": [
    "# Create new DataFrame using aspect names and fixed values"
   ]
  },
  {
   "cell_type": "code",
   "execution_count": 18,
   "metadata": {},
   "outputs": [],
   "source": [
    "names = [\"anecdotes/miscellaneous\", \"food\", \"service\", \"ambience\", \"price\"]\n",
    "values =[anecdote, food, service, ambience, price]\n",
    "\n",
    "new_data = pd.DataFrame()\n",
    "new_data[\"names\"] = names\n",
    "new_data[\"values\"] = values"
   ]
  },
  {
   "cell_type": "code",
   "execution_count": 19,
   "metadata": {},
   "outputs": [
    {
     "data": {
      "text/html": [
       "<div>\n",
       "<style scoped>\n",
       "    .dataframe tbody tr th:only-of-type {\n",
       "        vertical-align: middle;\n",
       "    }\n",
       "\n",
       "    .dataframe tbody tr th {\n",
       "        vertical-align: top;\n",
       "    }\n",
       "\n",
       "    .dataframe thead th {\n",
       "        text-align: right;\n",
       "    }\n",
       "</style>\n",
       "<table border=\"1\" class=\"dataframe\">\n",
       "  <thead>\n",
       "    <tr style=\"text-align: right;\">\n",
       "      <th></th>\n",
       "      <th>names</th>\n",
       "      <th>values</th>\n",
       "    </tr>\n",
       "  </thead>\n",
       "  <tbody>\n",
       "    <tr>\n",
       "      <td>0</td>\n",
       "      <td>anecdotes/miscellaneous</td>\n",
       "      <td>1133</td>\n",
       "    </tr>\n",
       "    <tr>\n",
       "      <td>1</td>\n",
       "      <td>food</td>\n",
       "      <td>1233</td>\n",
       "    </tr>\n",
       "    <tr>\n",
       "      <td>2</td>\n",
       "      <td>service</td>\n",
       "      <td>597</td>\n",
       "    </tr>\n",
       "    <tr>\n",
       "      <td>3</td>\n",
       "      <td>ambience</td>\n",
       "      <td>432</td>\n",
       "    </tr>\n",
       "    <tr>\n",
       "      <td>4</td>\n",
       "      <td>price</td>\n",
       "      <td>319</td>\n",
       "    </tr>\n",
       "  </tbody>\n",
       "</table>\n",
       "</div>"
      ],
      "text/plain": [
       "                     names  values\n",
       "0  anecdotes/miscellaneous    1133\n",
       "1                     food    1233\n",
       "2                  service     597\n",
       "3                 ambience     432\n",
       "4                    price     319"
      ]
     },
     "execution_count": 19,
     "metadata": {},
     "output_type": "execute_result"
    }
   ],
   "source": [
    "new_data.head()"
   ]
  },
  {
   "cell_type": "code",
   "execution_count": null,
   "metadata": {},
   "outputs": [],
   "source": [
    "fig = px.bar(new_data, x='names', y='values',\n",
    "\t\t\t hover_data=['values'], color='values',\n",
    "\t\t\t title = \"Review Frequency for separate aspects\",\n",
    "\t\t\t labels={'values':'Review Count', 'names': 'aspects'}, height=400)\n",
    "\n",
    "fig.show()"
   ]
  },
  {
   "cell_type": "code",
   "execution_count": null,
   "metadata": {},
   "outputs": [],
   "source": [
    "fig = px.pie(new_data, values = 'values', names ='names', color='values')\n",
    "fig.update_layout(title = \"Aspects distribution in total reviews\")\n",
    "fig.show()"
   ]
  }
 ],
 "metadata": {
  "kernelspec": {
   "display_name": "Python 3",
   "language": "python",
   "name": "python3"
  },
  "language_info": {
   "codemirror_mode": {
    "name": "ipython",
    "version": 3
   },
   "file_extension": ".py",
   "mimetype": "text/x-python",
   "name": "python",
   "nbconvert_exporter": "python",
   "pygments_lexer": "ipython3",
   "version": "3.7.4"
  }
 },
 "nbformat": 4,
 "nbformat_minor": 2
}